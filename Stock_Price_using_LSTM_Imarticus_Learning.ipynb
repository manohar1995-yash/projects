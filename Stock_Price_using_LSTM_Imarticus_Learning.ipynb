{
  "nbformat": 4,
  "nbformat_minor": 0,
  "metadata": {
    "kernelspec": {
      "display_name": "Python 3",
      "language": "python",
      "name": "python3"
    },
    "language_info": {
      "codemirror_mode": {
        "name": "ipython",
        "version": 3
      },
      "file_extension": ".py",
      "mimetype": "text/x-python",
      "name": "python",
      "nbconvert_exporter": "python",
      "pygments_lexer": "ipython3",
      "version": "3.7.6"
    },
    "colab": {
      "name": "Stock Price using LSTM- Imarticus Learning.ipynb",
      "provenance": [],
      "toc_visible": true
    },
    "accelerator": "GPU"
  },
  "cells": [
    {
      "cell_type": "code",
      "metadata": {
        "id": "J5YSorwcrAWb"
      },
      "source": [
        "#pip install pandas_datareader\n"
      ],
      "execution_count": null,
      "outputs": []
    },
    {
      "cell_type": "code",
      "metadata": {
        "id": "py4MJhZ-rAWc"
      },
      "source": [
        ""
      ],
      "execution_count": null,
      "outputs": []
    },
    {
      "cell_type": "code",
      "metadata": {
        "id": "kUtehRXgrAWc"
      },
      "source": [
        "# This code will filter out all the warnings\n",
        "import warnings\n",
        "warnings.filterwarnings('ignore')"
      ],
      "execution_count": 43,
      "outputs": []
    },
    {
      "cell_type": "markdown",
      "metadata": {
        "id": "AB9EzW6jrAWc"
      },
      "source": [
        "### Import the Necessary Libraries"
      ]
    },
    {
      "cell_type": "code",
      "metadata": {
        "id": "qjQsGr0DrAWd"
      },
      "source": [
        "import pandas_datareader as web\n",
        "import math\n",
        "import pandas as pd\n",
        "import numpy as np\n",
        "from sklearn.preprocessing import MinMaxScaler\n",
        "import matplotlib.pyplot as plt\n",
        "import seaborn as sns\n",
        "sns.set()\n",
        "from datetime import date\n"
      ],
      "execution_count": 44,
      "outputs": []
    },
    {
      "cell_type": "markdown",
      "metadata": {
        "id": "QDq-D5yBrAWe"
      },
      "source": [
        "### Import data using pandas_datareader. Select data range of your choice"
      ]
    },
    {
      "cell_type": "code",
      "metadata": {
        "id": "t9Lm2K9UrAWe"
      },
      "source": [
        "df=web.DataReader('GOOGL',data_source='yahoo',start='2012-01-01',end='2021-02-28')"
      ],
      "execution_count": 45,
      "outputs": []
    },
    {
      "cell_type": "markdown",
      "metadata": {
        "id": "G3CwVgNDrAWe"
      },
      "source": [
        "## Basic EDA"
      ]
    },
    {
      "cell_type": "code",
      "metadata": {
        "colab": {
          "base_uri": "https://localhost:8080/",
          "height": 235
        },
        "id": "MPkWt6EOsNOl",
        "outputId": "68970eeb-701e-4913-ba44-eef039921868"
      },
      "source": [
        "df.head()"
      ],
      "execution_count": 46,
      "outputs": [
        {
          "output_type": "execute_result",
          "data": {
            "text/html": [
              "<div>\n",
              "<style scoped>\n",
              "    .dataframe tbody tr th:only-of-type {\n",
              "        vertical-align: middle;\n",
              "    }\n",
              "\n",
              "    .dataframe tbody tr th {\n",
              "        vertical-align: top;\n",
              "    }\n",
              "\n",
              "    .dataframe thead th {\n",
              "        text-align: right;\n",
              "    }\n",
              "</style>\n",
              "<table border=\"1\" class=\"dataframe\">\n",
              "  <thead>\n",
              "    <tr style=\"text-align: right;\">\n",
              "      <th></th>\n",
              "      <th>High</th>\n",
              "      <th>Low</th>\n",
              "      <th>Open</th>\n",
              "      <th>Close</th>\n",
              "      <th>Volume</th>\n",
              "      <th>Adj Close</th>\n",
              "    </tr>\n",
              "    <tr>\n",
              "      <th>Date</th>\n",
              "      <th></th>\n",
              "      <th></th>\n",
              "      <th></th>\n",
              "      <th></th>\n",
              "      <th></th>\n",
              "      <th></th>\n",
              "    </tr>\n",
              "  </thead>\n",
              "  <tbody>\n",
              "    <tr>\n",
              "      <th>2012-01-03</th>\n",
              "      <td>334.409424</td>\n",
              "      <td>326.511505</td>\n",
              "      <td>326.796783</td>\n",
              "      <td>333.038025</td>\n",
              "      <td>7345647.0</td>\n",
              "      <td>333.038025</td>\n",
              "    </tr>\n",
              "    <tr>\n",
              "      <th>2012-01-04</th>\n",
              "      <td>335.460449</td>\n",
              "      <td>330.640656</td>\n",
              "      <td>332.847839</td>\n",
              "      <td>334.474487</td>\n",
              "      <td>5722272.0</td>\n",
              "      <td>334.474487</td>\n",
              "    </tr>\n",
              "    <tr>\n",
              "      <th>2012-01-05</th>\n",
              "      <td>332.317322</td>\n",
              "      <td>328.443451</td>\n",
              "      <td>331.396393</td>\n",
              "      <td>329.834839</td>\n",
              "      <td>6559234.0</td>\n",
              "      <td>329.834839</td>\n",
              "    </tr>\n",
              "    <tr>\n",
              "      <th>2012-01-06</th>\n",
              "      <td>330.330322</td>\n",
              "      <td>325.220215</td>\n",
              "      <td>329.904907</td>\n",
              "      <td>325.335327</td>\n",
              "      <td>5380414.0</td>\n",
              "      <td>325.335327</td>\n",
              "    </tr>\n",
              "    <tr>\n",
              "      <th>2012-01-09</th>\n",
              "      <td>323.823822</td>\n",
              "      <td>310.925934</td>\n",
              "      <td>323.573578</td>\n",
              "      <td>311.541534</td>\n",
              "      <td>11633555.0</td>\n",
              "      <td>311.541534</td>\n",
              "    </tr>\n",
              "  </tbody>\n",
              "</table>\n",
              "</div>"
            ],
            "text/plain": [
              "                  High         Low  ...      Volume   Adj Close\n",
              "Date                                ...                        \n",
              "2012-01-03  334.409424  326.511505  ...   7345647.0  333.038025\n",
              "2012-01-04  335.460449  330.640656  ...   5722272.0  334.474487\n",
              "2012-01-05  332.317322  328.443451  ...   6559234.0  329.834839\n",
              "2012-01-06  330.330322  325.220215  ...   5380414.0  325.335327\n",
              "2012-01-09  323.823822  310.925934  ...  11633555.0  311.541534\n",
              "\n",
              "[5 rows x 6 columns]"
            ]
          },
          "metadata": {
            "tags": []
          },
          "execution_count": 46
        }
      ]
    },
    {
      "cell_type": "code",
      "metadata": {
        "colab": {
          "base_uri": "https://localhost:8080/",
          "height": 235
        },
        "id": "VTJcQCeOrAWf",
        "outputId": "9493df6d-5aaf-420e-bcd8-2e652b4afacc"
      },
      "source": [
        "df.tail()"
      ],
      "execution_count": 47,
      "outputs": [
        {
          "output_type": "execute_result",
          "data": {
            "text/html": [
              "<div>\n",
              "<style scoped>\n",
              "    .dataframe tbody tr th:only-of-type {\n",
              "        vertical-align: middle;\n",
              "    }\n",
              "\n",
              "    .dataframe tbody tr th {\n",
              "        vertical-align: top;\n",
              "    }\n",
              "\n",
              "    .dataframe thead th {\n",
              "        text-align: right;\n",
              "    }\n",
              "</style>\n",
              "<table border=\"1\" class=\"dataframe\">\n",
              "  <thead>\n",
              "    <tr style=\"text-align: right;\">\n",
              "      <th></th>\n",
              "      <th>High</th>\n",
              "      <th>Low</th>\n",
              "      <th>Open</th>\n",
              "      <th>Close</th>\n",
              "      <th>Volume</th>\n",
              "      <th>Adj Close</th>\n",
              "    </tr>\n",
              "    <tr>\n",
              "      <th>Date</th>\n",
              "      <th></th>\n",
              "      <th></th>\n",
              "      <th></th>\n",
              "      <th></th>\n",
              "      <th></th>\n",
              "      <th></th>\n",
              "    </tr>\n",
              "  </thead>\n",
              "  <tbody>\n",
              "    <tr>\n",
              "      <th>2021-02-22</th>\n",
              "      <td>2080.330078</td>\n",
              "      <td>2048.000000</td>\n",
              "      <td>2053.600098</td>\n",
              "      <td>2054.260010</td>\n",
              "      <td>1473300.0</td>\n",
              "      <td>2054.260010</td>\n",
              "    </tr>\n",
              "    <tr>\n",
              "      <th>2021-02-23</th>\n",
              "      <td>2072.500000</td>\n",
              "      <td>1990.229980</td>\n",
              "      <td>2013.989990</td>\n",
              "      <td>2060.120117</td>\n",
              "      <td>1732900.0</td>\n",
              "      <td>2060.120117</td>\n",
              "    </tr>\n",
              "    <tr>\n",
              "      <th>2021-02-24</th>\n",
              "      <td>2088.320068</td>\n",
              "      <td>2027.530029</td>\n",
              "      <td>2030.040039</td>\n",
              "      <td>2083.810059</td>\n",
              "      <td>1130400.0</td>\n",
              "      <td>2083.810059</td>\n",
              "    </tr>\n",
              "    <tr>\n",
              "      <th>2021-02-25</th>\n",
              "      <td>2083.000000</td>\n",
              "      <td>2006.489990</td>\n",
              "      <td>2055.929932</td>\n",
              "      <td>2015.949951</td>\n",
              "      <td>2077400.0</td>\n",
              "      <td>2015.949951</td>\n",
              "    </tr>\n",
              "    <tr>\n",
              "      <th>2021-02-26</th>\n",
              "      <td>2056.520020</td>\n",
              "      <td>2001.010010</td>\n",
              "      <td>2029.949951</td>\n",
              "      <td>2021.910034</td>\n",
              "      <td>2001500.0</td>\n",
              "      <td>2021.910034</td>\n",
              "    </tr>\n",
              "  </tbody>\n",
              "</table>\n",
              "</div>"
            ],
            "text/plain": [
              "                   High          Low  ...     Volume    Adj Close\n",
              "Date                                  ...                        \n",
              "2021-02-22  2080.330078  2048.000000  ...  1473300.0  2054.260010\n",
              "2021-02-23  2072.500000  1990.229980  ...  1732900.0  2060.120117\n",
              "2021-02-24  2088.320068  2027.530029  ...  1130400.0  2083.810059\n",
              "2021-02-25  2083.000000  2006.489990  ...  2077400.0  2015.949951\n",
              "2021-02-26  2056.520020  2001.010010  ...  2001500.0  2021.910034\n",
              "\n",
              "[5 rows x 6 columns]"
            ]
          },
          "metadata": {
            "tags": []
          },
          "execution_count": 47
        }
      ]
    },
    {
      "cell_type": "code",
      "metadata": {
        "colab": {
          "base_uri": "https://localhost:8080/"
        },
        "id": "9O_sDvRCrAWg",
        "outputId": "369c107b-e850-4cd4-d68d-64116aeec349"
      },
      "source": [
        "df.shape"
      ],
      "execution_count": 48,
      "outputs": [
        {
          "output_type": "execute_result",
          "data": {
            "text/plain": [
              "(2303, 6)"
            ]
          },
          "metadata": {
            "tags": []
          },
          "execution_count": 48
        }
      ]
    },
    {
      "cell_type": "code",
      "metadata": {
        "colab": {
          "base_uri": "https://localhost:8080/",
          "height": 355
        },
        "id": "2c7uN0EprAWh",
        "outputId": "d38201c2-9c7d-4714-d4a5-e7b72eed428b"
      },
      "source": [
        "plt.figure(figsize=(15,5))\n",
        "plt.plot(df.Close)\n",
        "plt.title(\"Stock Price\")\n",
        "plt.xlabel(\"Date\")\n",
        "plt.ylabel(\"Close Price in US $\");\n"
      ],
      "execution_count": 49,
      "outputs": [
        {
          "output_type": "display_data",
          "data": {
            "image/png": "[encoded data removed]",
            "text/plain": [
              "<Figure size 1080x360 with 1 Axes>"
            ]
          },
          "metadata": {
            "tags": []
          }
        }
      ]
    },
    {
      "cell_type": "markdown",
      "metadata": {
        "id": "rSs3SjvmrAWi"
      },
      "source": [
        "## Seperate out the Close Column as we will be working on the Closing Values"
      ]
    },
    {
      "cell_type": "code",
      "metadata": {
        "id": "danXDNkarAWi"
      },
      "source": [
        "close=df.filter(['Close'])"
      ],
      "execution_count": 50,
      "outputs": []
    },
    {
      "cell_type": "code",
      "metadata": {
        "colab": {
          "base_uri": "https://localhost:8080/",
          "height": 235
        },
        "id": "MQXaaWDprAWj",
        "outputId": "f385f17a-b14b-4a05-eaf4-30f604c7367b"
      },
      "source": [
        "close.head()"
      ],
      "execution_count": 51,
      "outputs": [
        {
          "output_type": "execute_result",
          "data": {
            "text/html": [
              "<div>\n",
              "<style scoped>\n",
              "    .dataframe tbody tr th:only-of-type {\n",
              "        vertical-align: middle;\n",
              "    }\n",
              "\n",
              "    .dataframe tbody tr th {\n",
              "        vertical-align: top;\n",
              "    }\n",
              "\n",
              "    .dataframe thead th {\n",
              "        text-align: right;\n",
              "    }\n",
              "</style>\n",
              "<table border=\"1\" class=\"dataframe\">\n",
              "  <thead>\n",
              "    <tr style=\"text-align: right;\">\n",
              "      <th></th>\n",
              "      <th>Close</th>\n",
              "    </tr>\n",
              "    <tr>\n",
              "      <th>Date</th>\n",
              "      <th></th>\n",
              "    </tr>\n",
              "  </thead>\n",
              "  <tbody>\n",
              "    <tr>\n",
              "      <th>2012-01-03</th>\n",
              "      <td>333.038025</td>\n",
              "    </tr>\n",
              "    <tr>\n",
              "      <th>2012-01-04</th>\n",
              "      <td>334.474487</td>\n",
              "    </tr>\n",
              "    <tr>\n",
              "      <th>2012-01-05</th>\n",
              "      <td>329.834839</td>\n",
              "    </tr>\n",
              "    <tr>\n",
              "      <th>2012-01-06</th>\n",
              "      <td>325.335327</td>\n",
              "    </tr>\n",
              "    <tr>\n",
              "      <th>2012-01-09</th>\n",
              "      <td>311.541534</td>\n",
              "    </tr>\n",
              "  </tbody>\n",
              "</table>\n",
              "</div>"
            ],
            "text/plain": [
              "                 Close\n",
              "Date                  \n",
              "2012-01-03  333.038025\n",
              "2012-01-04  334.474487\n",
              "2012-01-05  329.834839\n",
              "2012-01-06  325.335327\n",
              "2012-01-09  311.541534"
            ]
          },
          "metadata": {
            "tags": []
          },
          "execution_count": 51
        }
      ]
    },
    {
      "cell_type": "code",
      "metadata": {
        "id": "gOYvlar1rAWj"
      },
      "source": [
        "# change the Values to Numpy Array\n",
        "close_stock=close.values"
      ],
      "execution_count": 52,
      "outputs": []
    },
    {
      "cell_type": "code",
      "metadata": {
        "colab": {
          "base_uri": "https://localhost:8080/"
        },
        "id": "6ZcQVvdvrAWk",
        "outputId": "988d793b-a407-4150-f940-cc4ddf09774b"
      },
      "source": [
        "type(close_stock)"
      ],
      "execution_count": 53,
      "outputs": [
        {
          "output_type": "execute_result",
          "data": {
            "text/plain": [
              "numpy.ndarray"
            ]
          },
          "metadata": {
            "tags": []
          },
          "execution_count": 53
        }
      ]
    },
    {
      "cell_type": "markdown",
      "metadata": {
        "id": "3AuZuaMDrAWk"
      },
      "source": [
        "## Prepare & Scale  the Training Data"
      ]
    },
    {
      "cell_type": "code",
      "metadata": {
        "id": "APIFa35OrAWk"
      },
      "source": [
        "training_data_length=math.ceil(len(close_stock)*0.8)"
      ],
      "execution_count": 54,
      "outputs": []
    },
    {
      "cell_type": "code",
      "metadata": {
        "colab": {
          "base_uri": "https://localhost:8080/"
        },
        "id": "ZHB9_p4RrAWl",
        "outputId": "513c4dd0-d4c6-433f-e865-96424e703b49"
      },
      "source": [
        "training_data_length"
      ],
      "execution_count": 55,
      "outputs": [
        {
          "output_type": "execute_result",
          "data": {
            "text/plain": [
              "1843"
            ]
          },
          "metadata": {
            "tags": []
          },
          "execution_count": 55
        }
      ]
    },
    {
      "cell_type": "code",
      "metadata": {
        "id": "iMWXPAnrrAWl"
      },
      "source": [
        "mms=MinMaxScaler(feature_range=(0, 1))"
      ],
      "execution_count": 56,
      "outputs": []
    },
    {
      "cell_type": "code",
      "metadata": {
        "id": "wIfKd6UZrAWm"
      },
      "source": [
        "scaled_close_stock=mms.fit_transform(close_stock)"
      ],
      "execution_count": 57,
      "outputs": []
    },
    {
      "cell_type": "code",
      "metadata": {
        "id": "0gIVg5lcrAWm"
      },
      "source": [
        "training_data=scaled_close_stock[0:training_data_length,:]"
      ],
      "execution_count": 58,
      "outputs": []
    },
    {
      "cell_type": "code",
      "metadata": {
        "colab": {
          "base_uri": "https://localhost:8080/"
        },
        "id": "reXfbOUVrAWm",
        "outputId": "95deaa00-96e8-461e-de99-fac949e8f276"
      },
      "source": [
        "len(training_data)"
      ],
      "execution_count": 59,
      "outputs": [
        {
          "output_type": "execute_result",
          "data": {
            "text/plain": [
              "1843"
            ]
          },
          "metadata": {
            "tags": []
          },
          "execution_count": 59
        }
      ]
    },
    {
      "cell_type": "code",
      "metadata": {
        "colab": {
          "base_uri": "https://localhost:8080/"
        },
        "id": "7C5zXWwMrAWn",
        "outputId": "3ecf9bbc-41f6-4730-b848-94821028410c"
      },
      "source": [
        "training_data"
      ],
      "execution_count": 60,
      "outputs": [
        {
          "output_type": "execute_result",
          "data": {
            "text/plain": [
              "array([[0.02894973],\n",
              "       [0.02973092],\n",
              "       [0.02720775],\n",
              "       ...,\n",
              "       [0.55274455],\n",
              "       [0.49986268],\n",
              "       [0.48591891]])"
            ]
          },
          "metadata": {
            "tags": []
          },
          "execution_count": 60
        }
      ]
    },
    {
      "cell_type": "markdown",
      "metadata": {
        "id": "S2XkRKmerAWo"
      },
      "source": [
        "### Make X_train & y_train"
      ]
    },
    {
      "cell_type": "code",
      "metadata": {
        "id": "7QvRLRhYrAWo"
      },
      "source": [
        "X_train=[]\n",
        "y_train=[]"
      ],
      "execution_count": 61,
      "outputs": []
    },
    {
      "cell_type": "code",
      "metadata": {
        "id": "F0NNcQj2rAWo"
      },
      "source": [
        "for i in range(60 ,len(training_data)):\n",
        "    X_train.append(training_data[i-60:i,0])\n",
        "    y_train.append(training_data[i,0])"
      ],
      "execution_count": 62,
      "outputs": []
    },
    {
      "cell_type": "markdown",
      "metadata": {
        "id": "10C5zcU0rAWp"
      },
      "source": [
        "### Change X_train and y_train to NumPy arrays"
      ]
    },
    {
      "cell_type": "code",
      "metadata": {
        "id": "_idzR0BNrAWp"
      },
      "source": [
        "X_train,y_train=np.array(X_train),np.array(y_train)"
      ],
      "execution_count": 63,
      "outputs": []
    },
    {
      "cell_type": "code",
      "metadata": {
        "colab": {
          "base_uri": "https://localhost:8080/"
        },
        "id": "KYdxmAOlrAWq",
        "outputId": "0ef7c3ef-9033-4fae-f5da-854deb80f1a4"
      },
      "source": [
        "print(type(X_train))\n",
        "print(type(y_train))\n"
      ],
      "execution_count": 64,
      "outputs": [
        {
          "output_type": "stream",
          "text": [
            "<class 'numpy.ndarray'>\n",
            "<class 'numpy.ndarray'>\n"
          ],
          "name": "stdout"
        }
      ]
    },
    {
      "cell_type": "code",
      "metadata": {
        "colab": {
          "base_uri": "https://localhost:8080/"
        },
        "id": "IBJFUiMYrAWr",
        "outputId": "16585794-1837-45b7-e992-e816730470c8"
      },
      "source": [
        "print(X_train.ndim)\n",
        "print(X_train.shape)"
      ],
      "execution_count": 65,
      "outputs": [
        {
          "output_type": "stream",
          "text": [
            "2\n",
            "(1783, 60)\n"
          ],
          "name": "stdout"
        }
      ]
    },
    {
      "cell_type": "code",
      "metadata": {
        "colab": {
          "base_uri": "https://localhost:8080/"
        },
        "id": "z873j6Tutsgg",
        "outputId": "86bd6113-b8e5-46dd-b87c-c3ebb9bac16b"
      },
      "source": [
        "X_train[:1]"
      ],
      "execution_count": 66,
      "outputs": [
        {
          "output_type": "execute_result",
          "data": {
            "text/plain": [
              "array([[0.02894973, 0.02973092, 0.02720775, 0.02476079, 0.01725933,\n",
              "        0.01744443, 0.01821199, 0.01921363, 0.01794796, 0.01892512,\n",
              "        0.02010368, 0.02191644, 0.0073327 , 0.00720476, 0.00595544,\n",
              "        0.00284162, 0.00246328, 0.00569685, 0.00507355, 0.00573224,\n",
              "        0.00592822, 0.00709317, 0.01014711, 0.01362021, 0.01298873,\n",
              "        0.01382706, 0.01426529, 0.01275466, 0.0144667 , 0.01380257,\n",
              "        0.01265938, 0.01292069, 0.01240897, 0.01495664, 0.01330718,\n",
              "        0.01280909, 0.01384067, 0.01368009, 0.01615154, 0.01611344,\n",
              "        0.017243  , 0.01693   , 0.01502469, 0.01249607, 0.0129969 ,\n",
              "        0.01308944, 0.01121407, 0.01254778, 0.0159855 , 0.0154983 ,\n",
              "        0.01689733, 0.01796157, 0.02039493, 0.02026156, 0.02202804,\n",
              "        0.02368022, 0.02273844, 0.02457298, 0.02394423, 0.02632315]])"
            ]
          },
          "metadata": {
            "tags": []
          },
          "execution_count": 66
        }
      ]
    },
    {
      "cell_type": "code",
      "metadata": {
        "colab": {
          "base_uri": "https://localhost:8080/"
        },
        "id": "kQlgkSCFtxqE",
        "outputId": "56e5d64a-9201-4d11-9988-21e82a1b7bf7"
      },
      "source": [
        "X_train[:1].shape"
      ],
      "execution_count": 67,
      "outputs": [
        {
          "output_type": "execute_result",
          "data": {
            "text/plain": [
              "(1, 60)"
            ]
          },
          "metadata": {
            "tags": []
          },
          "execution_count": 67
        }
      ]
    },
    {
      "cell_type": "markdown",
      "metadata": {
        "id": "u00loOy9rAWr"
      },
      "source": [
        "### RNN needs data in 3 dimensions , number of Samples, Number of Time Steps and Number of Features So wee need to reshape the data"
      ]
    },
    {
      "cell_type": "code",
      "metadata": {
        "colab": {
          "base_uri": "https://localhost:8080/"
        },
        "id": "VDGlNcerrAWr",
        "outputId": "cb8c2ecf-ae36-454b-82f2-42e2f3c8991c"
      },
      "source": [
        "print(X_train.shape)\n",
        "X_train=np.reshape(X_train,(X_train.shape[0],X_train.shape[1],1))"
      ],
      "execution_count": 68,
      "outputs": [
        {
          "output_type": "stream",
          "text": [
            "(1783, 60)\n"
          ],
          "name": "stdout"
        }
      ]
    },
    {
      "cell_type": "code",
      "metadata": {
        "colab": {
          "base_uri": "https://localhost:8080/"
        },
        "id": "BxUYaKTGuQma",
        "outputId": "a22ab98b-1652-41fb-e9e0-0d2788c0a300"
      },
      "source": [
        "X_train.shape"
      ],
      "execution_count": 69,
      "outputs": [
        {
          "output_type": "execute_result",
          "data": {
            "text/plain": [
              "(1783, 60, 1)"
            ]
          },
          "metadata": {
            "tags": []
          },
          "execution_count": 69
        }
      ]
    },
    {
      "cell_type": "markdown",
      "metadata": {
        "id": "1f_lOHU1rAWs"
      },
      "source": [
        "# Make the LSTM Architecture"
      ]
    },
    {
      "cell_type": "code",
      "metadata": {
        "id": "208Ya4CWrAWs"
      },
      "source": [
        "import keras\n",
        "from keras.models import Sequential\n",
        "from keras.layers import Dense\n",
        "from keras.layers import LSTM\n",
        "from keras.layers import Dropout"
      ],
      "execution_count": 70,
      "outputs": []
    },
    {
      "cell_type": "code",
      "metadata": {
        "id": "pEmbCO3nrAWs"
      },
      "source": [
        "model = Sequential()"
      ],
      "execution_count": 71,
      "outputs": []
    },
    {
      "cell_type": "code",
      "metadata": {
        "colab": {
          "base_uri": "https://localhost:8080/"
        },
        "id": "4aEzEyXurAWt",
        "outputId": "1442c78e-facb-4a0b-9e8b-5ef018fcfaeb"
      },
      "source": [
        "X_train.shape"
      ],
      "execution_count": 72,
      "outputs": [
        {
          "output_type": "execute_result",
          "data": {
            "text/plain": [
              "(1783, 60, 1)"
            ]
          },
          "metadata": {
            "tags": []
          },
          "execution_count": 72
        }
      ]
    },
    {
      "cell_type": "code",
      "metadata": {
        "colab": {
          "base_uri": "https://localhost:8080/"
        },
        "id": "ADl4Y9CuvJN3",
        "outputId": "1a9a19cf-180f-4321-bc3e-d9c43c3c2e05"
      },
      "source": [
        "X_train.shape[1]"
      ],
      "execution_count": 74,
      "outputs": [
        {
          "output_type": "execute_result",
          "data": {
            "text/plain": [
              "60"
            ]
          },
          "metadata": {
            "tags": []
          },
          "execution_count": 74
        }
      ]
    },
    {
      "cell_type": "markdown",
      "metadata": {
        "id": "PLk1d_oprAWt"
      },
      "source": [
        "### input_shape = number of time steps and number of features. In this case number of features is 1"
      ]
    },
    {
      "cell_type": "code",
      "metadata": {
        "id": "K85c5-3SrAWt"
      },
      "source": [
        "model.add(LSTM(units = 50, return_sequences = True, input_shape = (X_train.shape[1], 1)))\n",
        "\n",
        "\n",
        "# Adding a second LSTM layer and some Dropout regularisation\n",
        "model.add(LSTM(units = 50, return_sequences = True))\n",
        "\n",
        "\n",
        "# Adding a third LSTM layer and some Dropout regularisation\n",
        "model.add(LSTM(units = 50, return_sequences = True))\n",
        "\n",
        "\n",
        "# Adding a fourth LSTM layer and some Dropout regularisation\n",
        "model.add(LSTM(units = 50))\n"
      ],
      "execution_count": 40,
      "outputs": []
    },
    {
      "cell_type": "code",
      "metadata": {
        "id": "LYWPuD07rAWu"
      },
      "source": [
        "# Adding the output layer\n",
        "model.add(Dense(units = 1))\n",
        "\n",
        "# Compiling the RNN\n",
        "model.compile(optimizer = 'adam', loss = 'mean_squared_error')"
      ],
      "execution_count": 41,
      "outputs": []
    },
    {
      "cell_type": "code",
      "metadata": {
        "colab": {
          "base_uri": "https://localhost:8080/"
        },
        "id": "TyagL3OmrAWu",
        "outputId": "9c6e5c63-80d2-443f-da90-6476b302356e"
      },
      "source": [
        "# Fitting the RNN to the Training set\n",
        "model.fit(X_train, y_train, epochs = 50, batch_size = 32)\n"
      ],
      "execution_count": 42,
      "outputs": [
        {
          "output_type": "stream",
          "text": [
            "Epoch 1/50\n",
            "56/56 [==============================] - 36s 14ms/step - loss: 0.0141\n",
            "Epoch 2/50\n",
            "56/56 [==============================] - 1s 11ms/step - loss: 3.9336e-04\n",
            "Epoch 3/50\n",
            "56/56 [==============================] - 1s 11ms/step - loss: 3.2768e-04\n",
            "Epoch 4/50\n",
            "56/56 [==============================] - 1s 11ms/step - loss: 3.3713e-04\n",
            "Epoch 5/50\n",
            "56/56 [==============================] - 1s 13ms/step - loss: 3.0550e-04\n",
            "Epoch 6/50\n",
            "56/56 [==============================] - 1s 12ms/step - loss: 3.1445e-04\n",
            "Epoch 7/50\n",
            "56/56 [==============================] - 1s 11ms/step - loss: 3.1004e-04\n",
            "Epoch 8/50\n",
            "56/56 [==============================] - 1s 12ms/step - loss: 3.0697e-04\n",
            "Epoch 9/50\n",
            "56/56 [==============================] - 1s 12ms/step - loss: 3.2794e-04\n",
            "Epoch 10/50\n",
            "56/56 [==============================] - 1s 12ms/step - loss: 2.5830e-04\n",
            "Epoch 11/50\n",
            "56/56 [==============================] - 1s 13ms/step - loss: 2.6568e-04\n",
            "Epoch 12/50\n",
            "56/56 [==============================] - 1s 12ms/step - loss: 2.5973e-04\n",
            "Epoch 13/50\n",
            "56/56 [==============================] - 1s 13ms/step - loss: 2.4893e-04\n",
            "Epoch 14/50\n",
            "56/56 [==============================] - 1s 11ms/step - loss: 2.6808e-04\n",
            "Epoch 15/50\n",
            "56/56 [==============================] - 1s 12ms/step - loss: 2.4721e-04\n",
            "Epoch 16/50\n",
            "56/56 [==============================] - 1s 12ms/step - loss: 2.7932e-04\n",
            "Epoch 17/50\n",
            "56/56 [==============================] - 1s 12ms/step - loss: 2.6239e-04\n",
            "Epoch 18/50\n",
            "56/56 [==============================] - 1s 13ms/step - loss: 2.3250e-04\n",
            "Epoch 19/50\n",
            "56/56 [==============================] - 1s 12ms/step - loss: 2.8672e-04\n",
            "Epoch 20/50\n",
            "56/56 [==============================] - 1s 11ms/step - loss: 2.1235e-04\n",
            "Epoch 21/50\n",
            "56/56 [==============================] - 1s 13ms/step - loss: 2.8031e-04\n",
            "Epoch 22/50\n",
            "56/56 [==============================] - 1s 11ms/step - loss: 1.7874e-04\n",
            "Epoch 23/50\n",
            "56/56 [==============================] - 1s 11ms/step - loss: 1.7115e-04\n",
            "Epoch 24/50\n",
            "56/56 [==============================] - 1s 13ms/step - loss: 1.4812e-04\n",
            "Epoch 25/50\n",
            "56/56 [==============================] - 1s 11ms/step - loss: 1.6771e-04\n",
            "Epoch 26/50\n",
            "56/56 [==============================] - 1s 13ms/step - loss: 1.3585e-04\n",
            "Epoch 27/50\n",
            "56/56 [==============================] - 1s 12ms/step - loss: 1.4254e-04\n",
            "Epoch 28/50\n",
            "56/56 [==============================] - 1s 12ms/step - loss: 1.3676e-04\n",
            "Epoch 29/50\n",
            "56/56 [==============================] - 1s 11ms/step - loss: 1.1607e-04\n",
            "Epoch 30/50\n",
            "56/56 [==============================] - 1s 13ms/step - loss: 1.1176e-04\n",
            "Epoch 31/50\n",
            "56/56 [==============================] - 1s 12ms/step - loss: 1.3133e-04\n",
            "Epoch 32/50\n",
            "56/56 [==============================] - 1s 14ms/step - loss: 1.4411e-04\n",
            "Epoch 33/50\n",
            "56/56 [==============================] - 1s 13ms/step - loss: 9.5322e-05\n",
            "Epoch 34/50\n",
            "56/56 [==============================] - 1s 11ms/step - loss: 1.3232e-04\n",
            "Epoch 35/50\n",
            "56/56 [==============================] - 1s 13ms/step - loss: 8.3309e-05\n",
            "Epoch 36/50\n",
            "56/56 [==============================] - 1s 11ms/step - loss: 1.0302e-04\n",
            "Epoch 37/50\n",
            "56/56 [==============================] - 1s 11ms/step - loss: 8.6436e-05\n",
            "Epoch 38/50\n",
            "56/56 [==============================] - 1s 11ms/step - loss: 1.1140e-04\n",
            "Epoch 39/50\n",
            "56/56 [==============================] - 1s 13ms/step - loss: 9.4026e-05\n",
            "Epoch 40/50\n",
            "56/56 [==============================] - 1s 13ms/step - loss: 9.6427e-05\n",
            "Epoch 41/50\n",
            "56/56 [==============================] - 1s 13ms/step - loss: 7.3873e-05\n",
            "Epoch 42/50\n",
            "56/56 [==============================] - 1s 13ms/step - loss: 8.6273e-05\n",
            "Epoch 43/50\n",
            "56/56 [==============================] - 1s 14ms/step - loss: 6.9929e-05\n",
            "Epoch 44/50\n",
            "56/56 [==============================] - 1s 12ms/step - loss: 8.4219e-05\n",
            "Epoch 45/50\n",
            "56/56 [==============================] - 1s 12ms/step - loss: 8.3701e-05\n",
            "Epoch 46/50\n",
            "56/56 [==============================] - 1s 11ms/step - loss: 6.3851e-05\n",
            "Epoch 47/50\n",
            "56/56 [==============================] - 1s 11ms/step - loss: 6.1063e-05\n",
            "Epoch 48/50\n",
            "56/56 [==============================] - 1s 13ms/step - loss: 9.0271e-05\n",
            "Epoch 49/50\n",
            "56/56 [==============================] - 1s 12ms/step - loss: 1.0381e-04\n",
            "Epoch 50/50\n",
            "56/56 [==============================] - 1s 11ms/step - loss: 6.2856e-05\n"
          ],
          "name": "stdout"
        },
        {
          "output_type": "execute_result",
          "data": {
            "text/plain": [
              "<tensorflow.python.keras.callbacks.History at 0x7f4c5459a4d0>"
            ]
          },
          "metadata": {
            "tags": []
          },
          "execution_count": 42
        }
      ]
    },
    {
      "cell_type": "markdown",
      "metadata": {
        "id": "lSi7ezq-rAWu"
      },
      "source": [
        "## Prepare & reshape the Test Data"
      ]
    },
    {
      "cell_type": "code",
      "metadata": {
        "id": "Sf9pMbolrAWu"
      },
      "source": [
        "test_data=scaled_close_stock[training_data_length-60:,:]\n"
      ],
      "execution_count": 43,
      "outputs": []
    },
    {
      "cell_type": "code",
      "metadata": {
        "colab": {
          "base_uri": "https://localhost:8080/"
        },
        "id": "PMH2LUMhrAWv",
        "outputId": "1b549eb5-9656-4f6b-c515-3beff41a8ee2"
      },
      "source": [
        "training_data_length"
      ],
      "execution_count": 44,
      "outputs": [
        {
          "output_type": "execute_result",
          "data": {
            "text/plain": [
              "1843"
            ]
          },
          "metadata": {
            "tags": []
          },
          "execution_count": 44
        }
      ]
    },
    {
      "cell_type": "code",
      "metadata": {
        "colab": {
          "base_uri": "https://localhost:8080/"
        },
        "id": "wLAi-pcsrAWv",
        "outputId": "61cd25a4-5a34-427b-a67e-ca362971bfd9"
      },
      "source": [
        "len(test_data)"
      ],
      "execution_count": 45,
      "outputs": [
        {
          "output_type": "execute_result",
          "data": {
            "text/plain": [
              "520"
            ]
          },
          "metadata": {
            "tags": []
          },
          "execution_count": 45
        }
      ]
    },
    {
      "cell_type": "code",
      "metadata": {
        "id": "NLM0OniprAWv"
      },
      "source": [
        "X_test=[]\n",
        "y_test=close_stock[training_data_length:,:]"
      ],
      "execution_count": 46,
      "outputs": []
    },
    {
      "cell_type": "code",
      "metadata": {
        "id": "HWxHfwzfrAWw"
      },
      "source": [
        "for i in range(60,len(test_data)):\n",
        "    X_test.append(test_data[i-60:i,0])"
      ],
      "execution_count": 47,
      "outputs": []
    },
    {
      "cell_type": "code",
      "metadata": {
        "colab": {
          "base_uri": "https://localhost:8080/"
        },
        "id": "Y3ug9wFXrAWw",
        "outputId": "0aa13a12-1a4a-43cb-9d52-d3dc65462c15"
      },
      "source": [
        "len(X_test)"
      ],
      "execution_count": 48,
      "outputs": [
        {
          "output_type": "execute_result",
          "data": {
            "text/plain": [
              "460"
            ]
          },
          "metadata": {
            "tags": []
          },
          "execution_count": 48
        }
      ]
    },
    {
      "cell_type": "code",
      "metadata": {
        "id": "8Yksiq9XrAWw"
      },
      "source": [
        "X_test=np.array(X_test)"
      ],
      "execution_count": 49,
      "outputs": []
    },
    {
      "cell_type": "code",
      "metadata": {
        "colab": {
          "base_uri": "https://localhost:8080/"
        },
        "id": "86cRHdwerAWw",
        "outputId": "0ee14489-5f81-49f7-faf0-dd54ff6a8e3a"
      },
      "source": [
        "X_test.shape"
      ],
      "execution_count": 50,
      "outputs": [
        {
          "output_type": "execute_result",
          "data": {
            "text/plain": [
              "(460, 60)"
            ]
          },
          "metadata": {
            "tags": []
          },
          "execution_count": 50
        }
      ]
    },
    {
      "cell_type": "code",
      "metadata": {
        "id": "5SZFM3fyrAWx"
      },
      "source": [
        "X_test=np.reshape(X_test,(X_test.shape[0],X_test.shape[1],1))"
      ],
      "execution_count": 51,
      "outputs": []
    },
    {
      "cell_type": "markdown",
      "metadata": {
        "id": "9su4qAunrAWx"
      },
      "source": [
        "# Make Predictions"
      ]
    },
    {
      "cell_type": "code",
      "metadata": {
        "id": "qCwVYzsOrAWx"
      },
      "source": [
        "y_pred=model.predict(X_test)\n"
      ],
      "execution_count": 52,
      "outputs": []
    },
    {
      "cell_type": "code",
      "metadata": {
        "id": "gsF6Iq8PrAWx"
      },
      "source": [
        "y_pred=mms.inverse_transform(y_pred)"
      ],
      "execution_count": 53,
      "outputs": []
    },
    {
      "cell_type": "code",
      "metadata": {
        "colab": {
          "base_uri": "https://localhost:8080/",
          "height": 419
        },
        "id": "eV_SikzKrAWy",
        "outputId": "2b11dcd3-04ff-44ad-d49c-c0a85f28ce48"
      },
      "source": [
        "pd.DataFrame(y_pred)"
      ],
      "execution_count": 54,
      "outputs": [
        {
          "output_type": "execute_result",
          "data": {
            "text/html": [
              "<div>\n",
              "<style scoped>\n",
              "    .dataframe tbody tr th:only-of-type {\n",
              "        vertical-align: middle;\n",
              "    }\n",
              "\n",
              "    .dataframe tbody tr th {\n",
              "        vertical-align: top;\n",
              "    }\n",
              "\n",
              "    .dataframe thead th {\n",
              "        text-align: right;\n",
              "    }\n",
              "</style>\n",
              "<table border=\"1\" class=\"dataframe\">\n",
              "  <thead>\n",
              "    <tr style=\"text-align: right;\">\n",
              "      <th></th>\n",
              "      <th>0</th>\n",
              "    </tr>\n",
              "  </thead>\n",
              "  <tbody>\n",
              "    <tr>\n",
              "      <th>0</th>\n",
              "      <td>1161.545776</td>\n",
              "    </tr>\n",
              "    <tr>\n",
              "      <th>1</th>\n",
              "      <td>1156.115112</td>\n",
              "    </tr>\n",
              "    <tr>\n",
              "      <th>2</th>\n",
              "      <td>1181.004517</td>\n",
              "    </tr>\n",
              "    <tr>\n",
              "      <th>3</th>\n",
              "      <td>1194.328247</td>\n",
              "    </tr>\n",
              "    <tr>\n",
              "      <th>4</th>\n",
              "      <td>1183.828369</td>\n",
              "    </tr>\n",
              "    <tr>\n",
              "      <th>...</th>\n",
              "      <td>...</td>\n",
              "    </tr>\n",
              "    <tr>\n",
              "      <th>455</th>\n",
              "      <td>1972.325195</td>\n",
              "    </tr>\n",
              "    <tr>\n",
              "      <th>456</th>\n",
              "      <td>1941.586670</td>\n",
              "    </tr>\n",
              "    <tr>\n",
              "      <th>457</th>\n",
              "      <td>1959.933350</td>\n",
              "    </tr>\n",
              "    <tr>\n",
              "      <th>458</th>\n",
              "      <td>1982.059937</td>\n",
              "    </tr>\n",
              "    <tr>\n",
              "      <th>459</th>\n",
              "      <td>1901.385986</td>\n",
              "    </tr>\n",
              "  </tbody>\n",
              "</table>\n",
              "<p>460 rows × 1 columns</p>\n",
              "</div>"
            ],
            "text/plain": [
              "               0\n",
              "0    1161.545776\n",
              "1    1156.115112\n",
              "2    1181.004517\n",
              "3    1194.328247\n",
              "4    1183.828369\n",
              "..           ...\n",
              "455  1972.325195\n",
              "456  1941.586670\n",
              "457  1959.933350\n",
              "458  1982.059937\n",
              "459  1901.385986\n",
              "\n",
              "[460 rows x 1 columns]"
            ]
          },
          "metadata": {
            "tags": []
          },
          "execution_count": 54
        }
      ]
    },
    {
      "cell_type": "markdown",
      "metadata": {
        "id": "cJcc4jBprAWy"
      },
      "source": [
        "## Plot the Data"
      ]
    },
    {
      "cell_type": "code",
      "metadata": {
        "scrolled": true,
        "colab": {
          "base_uri": "https://localhost:8080/",
          "height": 270
        },
        "id": "VyAHUsuorAWy",
        "outputId": "f28f6933-2f01-4961-ce03-45adfae8e65c"
      },
      "source": [
        "# Visualising the results\n",
        "plt.figure(figsize=(15,5))\n",
        "plt.plot(y_test, color = 'red', label = 'Actual  Stock Price',ls='--')\n",
        "plt.plot(y_pred, color = 'limegreen', label = 'Predicted  Stock Price',ls='-')\n",
        "plt.title('Stock Market Projection')\n",
        "plt.xlabel('Time in days')\n",
        "plt.ylabel('Price in USD ($)')\n",
        "plt.legend()\n",
        "plt.show()"
      ],
      "execution_count": 55,
      "outputs": [
        {
          "output_type": "display_data",
          "data": {
            "image/png": "[encoded data removed]",
            "text/plain": [
              "<Figure size 1080x360 with 1 Axes>"
            ]
          },
          "metadata": {
            "tags": []
          }
        }
      ]
    },
    {
      "cell_type": "markdown",
      "metadata": {
        "id": "hzkezytOrAWz"
      },
      "source": [
        "## Plot the whole Data Training, Testing and Prediction Data together"
      ]
    },
    {
      "cell_type": "code",
      "metadata": {
        "id": "ZRjLfJ4brAWz"
      },
      "source": [
        "train=close[:training_data_length]\n",
        "test=close[training_data_length:]\n",
        "test['pred']=y_pred"
      ],
      "execution_count": 56,
      "outputs": []
    },
    {
      "cell_type": "code",
      "metadata": {
        "colab": {
          "base_uri": "https://localhost:8080/",
          "height": 270
        },
        "id": "m6MfWpCIrAWz",
        "outputId": "6b53d72b-5896-4040-a3d8-36ba156f6cbc"
      },
      "source": [
        "plt.figure(figsize=(15,5))\n",
        "plt.plot(train['Close'], color = 'tab:blue', label = 'Training Stock Data',ls='-')\n",
        "plt.plot(test['Close'], color = 'tab:red', label = 'Testing Stock Data',ls='-')\n",
        "plt.plot(test['pred'], color = 'tab:green', label = 'Predicted Stock Data',ls='dashdot')\n",
        "plt.title('Stock Price')\n",
        "plt.xlabel('Date')\n",
        "plt.ylabel('Stock Price in US $')\n",
        "plt.legend()\n",
        "plt.show()"
      ],
      "execution_count": 57,
      "outputs": [
        {
          "output_type": "display_data",
          "data": {
            "image/png": "[encoded data removed]",
            "text/plain": [
              "<Figure size 1080x360 with 1 Axes>"
            ]
          },
          "metadata": {
            "tags": []
          }
        }
      ]
    },
    {
      "cell_type": "code",
      "metadata": {
        "id": "fOrqNZjby7yf"
      },
      "source": [
        ""
      ],
      "execution_count": null,
      "outputs": []
    }
  ]
}